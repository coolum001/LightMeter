{
 "cells": [
  {
   "cell_type": "code",
   "execution_count": 1,
   "metadata": {},
   "outputs": [],
   "source": [
    "# pysimplegui build the Windows UI\n",
    "import PySimpleGUI as sg      \n",
    "\n",
    "# import serial comms package\n",
    "import serial\n",
    "import serial.tools.list_ports as list_ports\n",
    "\n",
    "import time"
   ]
  },
  {
   "cell_type": "code",
   "execution_count": 2,
   "metadata": {},
   "outputs": [],
   "source": [
    "def show_ports():\n",
    "    '''\n",
    "    show_ports: show available ports for serial communications\n",
    "    \n",
    "    Parameters:\n",
    "    None\n",
    "    \n",
    "    Returns:\n",
    "    None\n",
    "    \n",
    "    Side Effects:\n",
    "    prints to standard output, one line per port\n",
    "    '''\n",
    "    ports = list(list_ports.comports() )\n",
    "    _ = [print(p) for p in ports]\n",
    "    return None\n",
    "    \n",
    "#end show_ports"
   ]
  },
  {
   "cell_type": "code",
   "execution_count": 3,
   "metadata": {},
   "outputs": [],
   "source": [
    "def setup_comms_port():\n",
    "    '''\n",
    "    setup_serial_port: Setup to read data from Arduino serial line\n",
    "    \n",
    "    This functiions sets up a serial communications port for \n",
    "    PC to Arduino communication.\n",
    "    \n",
    "    Note this function must align with the corresponding Arduino sketch\n",
    "    especially wrt BaudRate\n",
    "    \n",
    "    The COM3 port is used (appears to be default port for USB serial lines)\n",
    "    \n",
    "    Parameters:\n",
    "    None\n",
    "    \n",
    "    Returns\n",
    "    SerialPort object\n",
    "    \n",
    "    Side Effects\n",
    "    Set up port COM3 at fast baudrate, clears\n",
    "    any input buffer.  We do the latter, so that\n",
    "    the data read from Arduino is roughly in step with\n",
    "    Arduino writes\n",
    "    '''\n",
    "    serialPort = serial.Serial(port=\"com3\", baudrate=38400,)\n",
    "    serialPort.reset_input_buffer()\n",
    "    \n",
    "    return serialPort\n",
    "    \n",
    "#end setup_comms_port"
   ]
  },
  {
   "cell_type": "code",
   "execution_count": null,
   "metadata": {},
   "outputs": [
    {
     "name": "stdout",
     "output_type": "stream",
     "text": [
      "COM3 - USB Serial Device (COM3)\n"
     ]
    }
   ],
   "source": [
    "# screen update rate millisecs\n",
    "SCREEN_READ_PERIOD = 50\n",
    "\n",
    "\n",
    "#\n",
    "# define GUI to show light levels\n",
    "# bar is 100 (default font) chars wide, 200 pixels high\n",
    "\n",
    "layout = [      [sg.Text('Light Meter', size=(12,1), font=(\"Helvetica\", 100))],     \n",
    "                [sg.ProgressBar(1000, orientation='h', size=(100,200), key='pbar',)],\n",
    "                [sg.Text(str(23), size=(5,1), font=(\"Helvetica\", 100), key='Light',)],      \n",
    "                [sg.Cancel()]\n",
    "         ]      \n",
    "\n",
    "window = sg.Window('Light Meter', layout,)\n",
    "progress_bar = window['pbar']\n",
    "\n",
    "#\n",
    "#  Set up Serial Port\n",
    "show_ports()\n",
    "#  serial_port = setup_comms_port()\n",
    "with serial.Serial(port=\"com3\", baudrate=38400,) as serial_port:\n",
    "    serial_string = ''\n",
    "    serial_port.reset_input_buffer()\n",
    "\n",
    "    for i in range(1,1000000):\n",
    "        # read values from serial port, and show in screen\n",
    "        event, values = window.read(timeout=SCREEN_READ_PERIOD,)    \n",
    "\n",
    "        # check for user exit\n",
    "        if( event=='Cancel' or event is None):\n",
    "            break\n",
    "        #end if\n",
    "\n",
    "        if(serial_port.in_waiting > 0):\n",
    "            # print('data to read!')\n",
    "            serial_string = serial_port.readline()\n",
    "            serial_string = serial_string.decode('ascii')\n",
    "\n",
    "            light = int(serial_string)\n",
    "            # print(f' i={i}, light={light}')\n",
    "            window['Light'].update(light )\n",
    "            progress_bar.UpdateBar(light)\n",
    "\n",
    "        else:\n",
    "            # print(f' i={i}: No data to read ...')\n",
    "            time.sleep(0.5)\n",
    "        #end if\n",
    "\n",
    "    #end for\n",
    "#end with\n",
    "# with clause should close serial port for us\n",
    "window.close()\n"
   ]
  },
  {
   "cell_type": "code",
   "execution_count": 7,
   "metadata": {},
   "outputs": [
    {
     "name": "stdout",
     "output_type": "stream",
     "text": [
      "123\n"
     ]
    }
   ],
   "source": [
    "print(int('123'))"
   ]
  },
  {
   "cell_type": "code",
   "execution_count": null,
   "metadata": {},
   "outputs": [],
   "source": []
  },
  {
   "cell_type": "code",
   "execution_count": 5,
   "metadata": {},
   "outputs": [
    {
     "data": {
      "text/plain": [
       "\u001b[1;31mInit signature:\u001b[0m\n",
       "\u001b[0msg\u001b[0m\u001b[1;33m.\u001b[0m\u001b[0mProgressBar\u001b[0m\u001b[1;33m(\u001b[0m\u001b[1;33m\n",
       "\u001b[0m    \u001b[0mmax_value\u001b[0m\u001b[1;33m,\u001b[0m\u001b[1;33m\n",
       "\u001b[0m    \u001b[0morientation\u001b[0m\u001b[1;33m=\u001b[0m\u001b[1;32mNone\u001b[0m\u001b[1;33m,\u001b[0m\u001b[1;33m\n",
       "\u001b[0m    \u001b[0msize\u001b[0m\u001b[1;33m=\u001b[0m\u001b[1;33m(\u001b[0m\u001b[1;32mNone\u001b[0m\u001b[1;33m,\u001b[0m \u001b[1;32mNone\u001b[0m\u001b[1;33m)\u001b[0m\u001b[1;33m,\u001b[0m\u001b[1;33m\n",
       "\u001b[0m    \u001b[0mauto_size_text\u001b[0m\u001b[1;33m=\u001b[0m\u001b[1;32mNone\u001b[0m\u001b[1;33m,\u001b[0m\u001b[1;33m\n",
       "\u001b[0m    \u001b[0mbar_color\u001b[0m\u001b[1;33m=\u001b[0m\u001b[1;33m(\u001b[0m\u001b[1;32mNone\u001b[0m\u001b[1;33m,\u001b[0m \u001b[1;32mNone\u001b[0m\u001b[1;33m)\u001b[0m\u001b[1;33m,\u001b[0m\u001b[1;33m\n",
       "\u001b[0m    \u001b[0mstyle\u001b[0m\u001b[1;33m=\u001b[0m\u001b[1;32mNone\u001b[0m\u001b[1;33m,\u001b[0m\u001b[1;33m\n",
       "\u001b[0m    \u001b[0mborder_width\u001b[0m\u001b[1;33m=\u001b[0m\u001b[1;32mNone\u001b[0m\u001b[1;33m,\u001b[0m\u001b[1;33m\n",
       "\u001b[0m    \u001b[0mrelief\u001b[0m\u001b[1;33m=\u001b[0m\u001b[1;32mNone\u001b[0m\u001b[1;33m,\u001b[0m\u001b[1;33m\n",
       "\u001b[0m    \u001b[0mkey\u001b[0m\u001b[1;33m=\u001b[0m\u001b[1;32mNone\u001b[0m\u001b[1;33m,\u001b[0m\u001b[1;33m\n",
       "\u001b[0m    \u001b[0mpad\u001b[0m\u001b[1;33m=\u001b[0m\u001b[1;32mNone\u001b[0m\u001b[1;33m,\u001b[0m\u001b[1;33m\n",
       "\u001b[0m    \u001b[0mvisible\u001b[0m\u001b[1;33m=\u001b[0m\u001b[1;32mTrue\u001b[0m\u001b[1;33m,\u001b[0m\u001b[1;33m\n",
       "\u001b[0m    \u001b[0mmetadata\u001b[0m\u001b[1;33m=\u001b[0m\u001b[1;32mNone\u001b[0m\u001b[1;33m,\u001b[0m\u001b[1;33m\n",
       "\u001b[0m\u001b[1;33m)\u001b[0m\u001b[1;33m\u001b[0m\u001b[1;33m\u001b[0m\u001b[0m\n",
       "\u001b[1;31mDocstring:\u001b[0m      Progress Bar Element - Displays a colored bar that is shaded as progress of some operation is made\n",
       "\u001b[1;31mInit docstring:\u001b[0m\n",
       ":param max_value: max value of progressbar\n",
       ":type max_value: (int)\n",
       ":param orientation: 'horizontal' or 'vertical'\n",
       ":type orientation: (str)\n",
       ":param size: Size of the bar.  If horizontal (chars wide, pixels high), vert (pixels wide, rows high)\n",
       ":type size: Tuple[int, int]\n",
       ":param auto_size_text: Not sure why this is here\n",
       ":type auto_size_text: (bool)\n",
       ":param bar_color: The 2 colors that make up a progress bar. One is the background, the other is the bar\n",
       ":type bar_color: Tuple[str, str]\n",
       ":param style: Progress bar style defined as one of these 'default', 'winnative', 'clam', 'alt', 'classic', 'vista', 'xpnative'\n",
       ":type style: (str)\n",
       ":param border_width: The amount of pixels that go around the outside of the bar\n",
       ":type border_width: (int)\n",
       ":param relief: relief style. Values are same as progress meter relief values.  Can be a constant or a string: `RELIEF_RAISED RELIEF_SUNKEN RELIEF_FLAT RELIEF_RIDGE RELIEF_GROOVE RELIEF_SOLID` (Default value = DEFAULT_PROGRESS_BAR_RELIEF)\n",
       ":type relief: (str)\n",
       ":param key: Used with window.FindElement and with return values to uniquely identify this element to uniquely identify this element\n",
       ":type key: (Any)\n",
       ":param pad: Amount of padding to put around element (left/right, top/bottom) or ((left, right), (top, bottom))\n",
       ":type pad: (int, int) or ((int, int),(int,int)) or (int,(int,int)) or  ((int, int),int)\n",
       ":param visible: set visibility state of the element\n",
       ":type visible: (bool)\n",
       ":param metadata: User metadata that can be set to ANYTHING\n",
       ":type metadata: Any\n",
       "\u001b[1;31mFile:\u001b[0m           c:\\users\\donc\\anaconda3\\lib\\site-packages\\pysimplegui\\pysimplegui.py\n",
       "\u001b[1;31mType:\u001b[0m           type\n",
       "\u001b[1;31mSubclasses:\u001b[0m     \n"
      ]
     },
     "metadata": {},
     "output_type": "display_data"
    }
   ],
   "source": [
    "sg.ProgressBar?"
   ]
  },
  {
   "cell_type": "code",
   "execution_count": null,
   "metadata": {},
   "outputs": [],
   "source": []
  }
 ],
 "metadata": {
  "kernelspec": {
   "display_name": "Python 3",
   "language": "python",
   "name": "python3"
  },
  "language_info": {
   "codemirror_mode": {
    "name": "ipython",
    "version": 3
   },
   "file_extension": ".py",
   "mimetype": "text/x-python",
   "name": "python",
   "nbconvert_exporter": "python",
   "pygments_lexer": "ipython3",
   "version": "3.7.6"
  }
 },
 "nbformat": 4,
 "nbformat_minor": 4
}
