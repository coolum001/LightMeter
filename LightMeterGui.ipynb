{
 "cells": [
  {
   "cell_type": "code",
   "execution_count": 3,
   "metadata": {},
   "outputs": [],
   "source": [
    "# pysimplegui build the Windows UI\n",
    "import PySimpleGUI as sg      \n",
    "\n",
    "# import serial comms package\n",
    "import serial\n",
    "import serial.tools.list_ports as list_ports\n",
    "\n",
    "import time"
   ]
  },
  {
   "cell_type": "code",
   "execution_count": 4,
   "metadata": {},
   "outputs": [],
   "source": [
    "def show_ports():\n",
    "    '''\n",
    "    show_ports: show available ports for serial communications\n",
    "    \n",
    "    Parameters:\n",
    "    None\n",
    "    \n",
    "    Returns:\n",
    "    None\n",
    "    \n",
    "    Side Effects:\n",
    "    prints to standard output, one line per port\n",
    "    '''\n",
    "    ports = list(list_ports.comports() )\n",
    "    _ = [print(p) for p in ports]\n",
    "    return None\n",
    "    \n",
    "#end show_ports"
   ]
  },
  {
   "cell_type": "code",
   "execution_count": 5,
   "metadata": {},
   "outputs": [],
   "source": [
    "def setup_comms_port():\n",
    "    '''\n",
    "    setup_serial_port: Setup to read data from Arduino serial line\n",
    "    \n",
    "    This functiions sets up a serial communications port for \n",
    "    PC to Arduino communication.\n",
    "    \n",
    "    Note this function must align with the corresponding Arduino sketch\n",
    "    especially wrt BaudRate\n",
    "    \n",
    "    The COM3 port is used (appears to be default port for USB serial lines)\n",
    "    \n",
    "    Parameters:\n",
    "    None\n",
    "    \n",
    "    Returns\n",
    "    SerialPort object\n",
    "    \n",
    "    Side Effects\n",
    "    Set up port COM3 at fast baudrate, clears\n",
    "    any input buffer.  We do the latter, so that\n",
    "    the data read from Arduino is roughly in step with\n",
    "    Arduino writes\n",
    "    '''\n",
    "    serialPort = serial.Serial(port=\"com3\", baudrate=38400,)\n",
    "    serialPort.reset_input_buffer()\n",
    "    \n",
    "    return serialPort\n",
    "    \n",
    "#end setup_comms_port"
   ]
  },
  {
   "cell_type": "code",
   "execution_count": 6,
   "metadata": {},
   "outputs": [
    {
     "name": "stdout",
     "output_type": "stream",
     "text": [
      "COM3 - USB Serial Device (COM3)\n"
     ]
    }
   ],
   "source": [
    "# screen update rate millisecs\n",
    "SCREEN_READ_PERIOD = 50\n",
    "\n",
    "layout = [      [sg.Text('Light Meter', size=(10,1), font=(\"Helvetica\", 40))],     \n",
    "                [sg.ProgressBar(1000, orientation='h', size=(20,20), key='pbar',)],\n",
    "                [sg.Text(str(23),  font=(\"Helvetica\", 40), key='Light',)],      \n",
    "                [sg.Cancel()]\n",
    "         ]      \n",
    "\n",
    "window = sg.Window('Light Meter', layout,)    \n",
    "\n",
    "#\n",
    "#  Set up Serial Port\n",
    "show_ports()\n",
    "serial_port = setup_comms_port()\n",
    "serial_string = ''\n",
    "serial_port.reset_input_buffer()\n",
    "\n",
    "for i in range(1,100):\n",
    "    # read 1000 values from serial port, and show in screen\n",
    "    event, values = window.read(timeout=SCREEN_READ_PERIOD,)    \n",
    "    \n",
    "    # check for user exit\n",
    "    if( event=='Cancel' or event is None):\n",
    "        break\n",
    "    #end if\n",
    "    \n",
    "    if(serial_port.in_waiting > 0):\n",
    "        print('data to read!')\n",
    "        serial_string = serial_port.readline()\n",
    "        print(serial_string.decode('ascii'))\n",
    "        \n",
    "        light = int(serial_string)\n",
    "        print(f' i={i}, light={light}')\n",
    "        window['Light'].update(light )\n",
    "        window['pbar'].update_bar(light)\n",
    "\n",
    "    else:\n",
    "        print('No data to read ...')\n",
    "        time.sleep(0.5)\n",
    "    #end if\n",
    "\n",
    "#end for\n",
    "\n",
    "window.close()\n"
   ]
  },
  {
   "cell_type": "code",
   "execution_count": 2,
   "metadata": {},
   "outputs": [
    {
     "name": "stdout",
     "output_type": "stream",
     "text": [
      "123\n"
     ]
    }
   ],
   "source": [
    "print(int('123'))"
   ]
  },
  {
   "cell_type": "code",
   "execution_count": null,
   "metadata": {},
   "outputs": [],
   "source": []
  }
 ],
 "metadata": {
  "kernelspec": {
   "display_name": "Python 3",
   "language": "python",
   "name": "python3"
  },
  "language_info": {
   "codemirror_mode": {
    "name": "ipython",
    "version": 3
   },
   "file_extension": ".py",
   "mimetype": "text/x-python",
   "name": "python",
   "nbconvert_exporter": "python",
   "pygments_lexer": "ipython3",
   "version": "3.7.6"
  }
 },
 "nbformat": 4,
 "nbformat_minor": 4
}
