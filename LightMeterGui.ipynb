{
 "cells": [
  {
   "cell_type": "code",
   "execution_count": 1,
   "metadata": {},
   "outputs": [],
   "source": [
    "# pysimplegui build the Windows UI\n",
    "import PySimpleGUI as sg      \n",
    "\n",
    "# import serial comms package\n",
    "import serial\n",
    "import serial.tools.list_ports as list_ports\n",
    "\n",
    "import time"
   ]
  },
  {
   "cell_type": "code",
   "execution_count": null,
   "metadata": {},
   "outputs": [],
   "source": [
    "def show_ports():\n",
    "    '''\n",
    "    show_ports: show available ports for serial communications\n",
    "    \n",
    "    Parameters:\n",
    "    None\n",
    "    \n",
    "    Returns:\n",
    "    None\n",
    "    \n",
    "    Side Effects:\n",
    "    prints to standard output, one line per port\n",
    "    '''\n",
    "    ports = list(list_ports.comports() )\n",
    "    _ = [print(p) for p in ports]\n",
    "    return None\n",
    "    \n",
    "#end show_ports"
   ]
  },
  {
   "cell_type": "code",
   "execution_count": null,
   "metadata": {},
   "outputs": [],
   "source": [
    "def setup_comms_port():\n",
    "    '''\n",
    "    setup_serial_port: Setup to read data from Arduino serial line\n",
    "    \n",
    "    This functiions sets up a serial communications port for \n",
    "    PC to Arduino communication.\n",
    "    \n",
    "    Note this function must align with the corresponding Arduino sketch\n",
    "    especially wrt BaudRate\n",
    "    \n",
    "    The COM3 port is used (appears to be default port for USB serial lines)\n",
    "    \n",
    "    Parameters:\n",
    "    None\n",
    "    \n",
    "    Returns\n",
    "    SerialPort object\n",
    "    \n",
    "    Side Effects\n",
    "    Set up port COM3 at fast baudrate, clears\n",
    "    any input buffer.  We do the latter, so that\n",
    "    the data read from Arduino is roughly in step with\n",
    "    Arduino writes\n",
    "    '''\n",
    "    serialPort = serial.Serial(port=\"com3\", baudrate=38400,)\n",
    "    serialPort.reset_input_buffer()\n",
    "    \n",
    "    return serialPort\n",
    "    \n",
    "#end setup_comms_port"
   ]
  },
  {
   "cell_type": "code",
   "execution_count": 9,
   "metadata": {},
   "outputs": [],
   "source": [
    "# screen update rate millisecs\n",
    "UPDATE_PERIOD = 500\n",
    "\n",
    "layout = [      [sg.Text('Light Meter', size=(10,1), font=(\"Helvetica\", 40))],     \n",
    "                [sg.ProgressBar(1000, orientation='h', size=(20,20), key='pbar',)],\n",
    "                [sg.Text(str(23),  font=(\"Helvetica\", 40), key='Light',)],      \n",
    "                [sg.Cancel()]\n",
    "         ]      \n",
    "\n",
    "window = sg.Window('Light Meter', layout,)    \n",
    "\n",
    "\n",
    "for i in range(1,101):\n",
    "    #time.sleep(UPDATE_PERIOD)\n",
    "    \n",
    "    event, values = window.read(timeout=500)    \n",
    "    \n",
    "    # check for user exit\n",
    "    if( event=='Cancel' or event is None):\n",
    "        break\n",
    "    #end if\n",
    "    window['Light'].update(str(i))\n",
    "    window['pbar'].update_bar(i)\n",
    "#end for\n",
    "\n",
    "window.close()\n"
   ]
  },
  {
   "cell_type": "code",
   "execution_count": null,
   "metadata": {},
   "outputs": [],
   "source": []
  },
  {
   "cell_type": "code",
   "execution_count": null,
   "metadata": {},
   "outputs": [],
   "source": []
  }
 ],
 "metadata": {
  "kernelspec": {
   "display_name": "Python 3",
   "language": "python",
   "name": "python3"
  },
  "language_info": {
   "codemirror_mode": {
    "name": "ipython",
    "version": 3
   },
   "file_extension": ".py",
   "mimetype": "text/x-python",
   "name": "python",
   "nbconvert_exporter": "python",
   "pygments_lexer": "ipython3",
   "version": "3.7.6"
  }
 },
 "nbformat": 4,
 "nbformat_minor": 4
}
